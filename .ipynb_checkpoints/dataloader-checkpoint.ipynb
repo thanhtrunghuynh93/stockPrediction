{
 "cells": [
  {
   "cell_type": "code",
   "execution_count": 1,
   "id": "d0f1e31f",
   "metadata": {},
   "outputs": [],
   "source": [
    "import pandas as pd\n",
    "import numpy as np\n",
    "from stockstats import StockDataFrame as Sdf\n",
    "import pandas as pd\n",
    "import numpy as np\n",
    "import matplotlib.pyplot as plt\n",
    "import os\n",
    "from datetime import datetime\n",
    "from OHCLV_loader import load_data\n",
    "from datetime import datetime\n",
    "from pytz import timezone\n",
    "from financial_loader import getFundamental, getFinancialReports, getFinancialReport, getBasicFA\n",
    "from valuation_loader import get_pe_valuation, get_pe_valuations, get_pb_valuation, get_pb_valuations, estimate_price\n",
    "from utils.date_util import *\n",
    "from analysis.CANSLIM_analysis import CANSLIM_analysis\n",
    "import requests\n",
    "\n",
    "# from preprocess.dataloader import load_data, clean_data\n",
    "# from preprocess.data_generator import generate_trading_data\n",
    "# from preprocess.indicator_factory import add_indicators_all, add_indicators\n",
    "# from indicators.Trendline import FindTrends\n",
    "# from evals import eval_trend_return_acc\n",
    "\n"
   ]
  },
  {
   "cell_type": "code",
   "execution_count": 25,
   "id": "c788b6e8",
   "metadata": {},
   "outputs": [
    {
     "name": "stdout",
     "output_type": "stream",
     "text": [
      "> \u001b[0;32m/tmp/ipykernel_47471/3484541629.py\u001b[0m(42)\u001b[0;36mestimate_price\u001b[0;34m()\u001b[0m\n",
      "\u001b[0;32m     40 \u001b[0;31m                \u001b[0mpdb\u001b[0m\u001b[0;34m.\u001b[0m\u001b[0mset_trace\u001b[0m\u001b[0;34m(\u001b[0m\u001b[0;34m)\u001b[0m\u001b[0;34m\u001b[0m\u001b[0;34m\u001b[0m\u001b[0m\n",
      "\u001b[0m\u001b[0;32m     41 \u001b[0;31m\u001b[0;34m\u001b[0m\u001b[0m\n",
      "\u001b[0m\u001b[0;32m---> 42 \u001b[0;31m                \u001b[0;32mif\u001b[0m \u001b[0mestimate_PE_low\u001b[0m \u001b[0;34m>\u001b[0m \u001b[0;36m0\u001b[0m\u001b[0;34m:\u001b[0m\u001b[0;34m\u001b[0m\u001b[0;34m\u001b[0m\u001b[0m\n",
      "\u001b[0m\u001b[0;32m     43 \u001b[0;31m                    \u001b[0mestimated_price_low\u001b[0m \u001b[0;34m=\u001b[0m \u001b[0mestimate_PE_low\u001b[0m \u001b[0;34m*\u001b[0m \u001b[0mpe_weight\u001b[0m \u001b[0;34m+\u001b[0m \u001b[0mestimate_PB_low\u001b[0m \u001b[0;34m*\u001b[0m \u001b[0mpb_weight\u001b[0m\u001b[0;34m\u001b[0m\u001b[0;34m\u001b[0m\u001b[0m\n",
      "\u001b[0m\u001b[0;32m     44 \u001b[0;31m                \u001b[0;32melse\u001b[0m\u001b[0;34m:\u001b[0m\u001b[0;34m\u001b[0m\u001b[0;34m\u001b[0m\u001b[0m\n",
      "\u001b[0m\n",
      "ipdb> estimate_PE_low\n",
      "ticker\n",
      "VCB    53171.99\n",
      "Name: low_estimate_price, dtype: float64\n",
      "ipdb> estimate_PE_low.value\n",
      "*** AttributeError: 'Series' object has no attribute 'value'\n",
      "ipdb> estimate_PE_low[0]\n",
      "53171.99\n",
      "ipdb> q\n"
     ]
    },
    {
     "ename": "BdbQuit",
     "evalue": "",
     "output_type": "error",
     "traceback": [
      "\u001b[0;31m---------------------------------------------------------------------------\u001b[0m",
      "\u001b[0;31mBdbQuit\u001b[0m                                   Traceback (most recent call last)",
      "\u001b[0;32m/tmp/ipykernel_47471/2269186894.py\u001b[0m in \u001b[0;36m<module>\u001b[0;34m\u001b[0m\n\u001b[1;32m     10\u001b[0m \u001b[0mestimate_price_pb\u001b[0m \u001b[0;34m=\u001b[0m \u001b[0mpd\u001b[0m\u001b[0;34m.\u001b[0m\u001b[0mread_csv\u001b[0m\u001b[0;34m(\u001b[0m\u001b[0;34m\"data/Vietnam/estimate_price_pb.csv\"\u001b[0m\u001b[0;34m)\u001b[0m\u001b[0;34m\u001b[0m\u001b[0;34m\u001b[0m\u001b[0m\n\u001b[1;32m     11\u001b[0m \u001b[0;34m\u001b[0m\u001b[0m\n\u001b[0;32m---> 12\u001b[0;31m \u001b[0mprice_estimator\u001b[0m \u001b[0;34m=\u001b[0m \u001b[0mestimate_price\u001b[0m\u001b[0;34m(\u001b[0m\u001b[0mstock_list\u001b[0m\u001b[0;34m,\u001b[0m \u001b[0mstock_infos\u001b[0m\u001b[0;34m,\u001b[0m \u001b[0mestimate_price_pe\u001b[0m\u001b[0;34m,\u001b[0m \u001b[0mestimate_price_pb\u001b[0m\u001b[0;34m)\u001b[0m\u001b[0;34m\u001b[0m\u001b[0;34m\u001b[0m\u001b[0m\n\u001b[0m\u001b[1;32m     13\u001b[0m \u001b[0;34m\u001b[0m\u001b[0m\n\u001b[1;32m     14\u001b[0m \u001b[0;31m# price_estimator.to_csv(\"estimate_price.csv\")\u001b[0m\u001b[0;34m\u001b[0m\u001b[0;34m\u001b[0m\u001b[0;34m\u001b[0m\u001b[0m\n",
      "\u001b[0;32m/tmp/ipykernel_47471/3484541629.py\u001b[0m in \u001b[0;36mestimate_price\u001b[0;34m(stock_list, stock_infos, estimate_price_pe, estimate_price_pb)\u001b[0m\n\u001b[1;32m     40\u001b[0m                 \u001b[0mpdb\u001b[0m\u001b[0;34m.\u001b[0m\u001b[0mset_trace\u001b[0m\u001b[0;34m(\u001b[0m\u001b[0;34m)\u001b[0m\u001b[0;34m\u001b[0m\u001b[0;34m\u001b[0m\u001b[0m\n\u001b[1;32m     41\u001b[0m \u001b[0;34m\u001b[0m\u001b[0m\n\u001b[0;32m---> 42\u001b[0;31m                 \u001b[0;32mif\u001b[0m \u001b[0mestimate_PE_low\u001b[0m \u001b[0;34m>\u001b[0m \u001b[0;36m0\u001b[0m\u001b[0;34m:\u001b[0m\u001b[0;34m\u001b[0m\u001b[0;34m\u001b[0m\u001b[0m\n\u001b[0m\u001b[1;32m     43\u001b[0m                     \u001b[0mestimated_price_low\u001b[0m \u001b[0;34m=\u001b[0m \u001b[0mestimate_PE_low\u001b[0m \u001b[0;34m*\u001b[0m \u001b[0mpe_weight\u001b[0m \u001b[0;34m+\u001b[0m \u001b[0mestimate_PB_low\u001b[0m \u001b[0;34m*\u001b[0m \u001b[0mpb_weight\u001b[0m\u001b[0;34m\u001b[0m\u001b[0;34m\u001b[0m\u001b[0m\n\u001b[1;32m     44\u001b[0m                 \u001b[0;32melse\u001b[0m\u001b[0;34m:\u001b[0m\u001b[0;34m\u001b[0m\u001b[0;34m\u001b[0m\u001b[0m\n",
      "\u001b[0;32m/tmp/ipykernel_47471/3484541629.py\u001b[0m in \u001b[0;36mestimate_price\u001b[0;34m(stock_list, stock_infos, estimate_price_pe, estimate_price_pb)\u001b[0m\n\u001b[1;32m     40\u001b[0m                 \u001b[0mpdb\u001b[0m\u001b[0;34m.\u001b[0m\u001b[0mset_trace\u001b[0m\u001b[0;34m(\u001b[0m\u001b[0;34m)\u001b[0m\u001b[0;34m\u001b[0m\u001b[0;34m\u001b[0m\u001b[0m\n\u001b[1;32m     41\u001b[0m \u001b[0;34m\u001b[0m\u001b[0m\n\u001b[0;32m---> 42\u001b[0;31m                 \u001b[0;32mif\u001b[0m \u001b[0mestimate_PE_low\u001b[0m \u001b[0;34m>\u001b[0m \u001b[0;36m0\u001b[0m\u001b[0;34m:\u001b[0m\u001b[0;34m\u001b[0m\u001b[0;34m\u001b[0m\u001b[0m\n\u001b[0m\u001b[1;32m     43\u001b[0m                     \u001b[0mestimated_price_low\u001b[0m \u001b[0;34m=\u001b[0m \u001b[0mestimate_PE_low\u001b[0m \u001b[0;34m*\u001b[0m \u001b[0mpe_weight\u001b[0m \u001b[0;34m+\u001b[0m \u001b[0mestimate_PB_low\u001b[0m \u001b[0;34m*\u001b[0m \u001b[0mpb_weight\u001b[0m\u001b[0;34m\u001b[0m\u001b[0;34m\u001b[0m\u001b[0m\n\u001b[1;32m     44\u001b[0m                 \u001b[0;32melse\u001b[0m\u001b[0;34m:\u001b[0m\u001b[0;34m\u001b[0m\u001b[0;34m\u001b[0m\u001b[0m\n",
      "\u001b[0;32m~/anaconda3/envs/pytorch/lib/python3.7/bdb.py\u001b[0m in \u001b[0;36mtrace_dispatch\u001b[0;34m(self, frame, event, arg)\u001b[0m\n\u001b[1;32m     86\u001b[0m             \u001b[0;32mreturn\u001b[0m \u001b[0;31m# None\u001b[0m\u001b[0;34m\u001b[0m\u001b[0;34m\u001b[0m\u001b[0m\n\u001b[1;32m     87\u001b[0m         \u001b[0;32mif\u001b[0m \u001b[0mevent\u001b[0m \u001b[0;34m==\u001b[0m \u001b[0;34m'line'\u001b[0m\u001b[0;34m:\u001b[0m\u001b[0;34m\u001b[0m\u001b[0;34m\u001b[0m\u001b[0m\n\u001b[0;32m---> 88\u001b[0;31m             \u001b[0;32mreturn\u001b[0m \u001b[0mself\u001b[0m\u001b[0;34m.\u001b[0m\u001b[0mdispatch_line\u001b[0m\u001b[0;34m(\u001b[0m\u001b[0mframe\u001b[0m\u001b[0;34m)\u001b[0m\u001b[0;34m\u001b[0m\u001b[0;34m\u001b[0m\u001b[0m\n\u001b[0m\u001b[1;32m     89\u001b[0m         \u001b[0;32mif\u001b[0m \u001b[0mevent\u001b[0m \u001b[0;34m==\u001b[0m \u001b[0;34m'call'\u001b[0m\u001b[0;34m:\u001b[0m\u001b[0;34m\u001b[0m\u001b[0;34m\u001b[0m\u001b[0m\n\u001b[1;32m     90\u001b[0m             \u001b[0;32mreturn\u001b[0m \u001b[0mself\u001b[0m\u001b[0;34m.\u001b[0m\u001b[0mdispatch_call\u001b[0m\u001b[0;34m(\u001b[0m\u001b[0mframe\u001b[0m\u001b[0;34m,\u001b[0m \u001b[0marg\u001b[0m\u001b[0;34m)\u001b[0m\u001b[0;34m\u001b[0m\u001b[0;34m\u001b[0m\u001b[0m\n",
      "\u001b[0;32m~/anaconda3/envs/pytorch/lib/python3.7/bdb.py\u001b[0m in \u001b[0;36mdispatch_line\u001b[0;34m(self, frame)\u001b[0m\n\u001b[1;32m    111\u001b[0m         \u001b[0;32mif\u001b[0m \u001b[0mself\u001b[0m\u001b[0;34m.\u001b[0m\u001b[0mstop_here\u001b[0m\u001b[0;34m(\u001b[0m\u001b[0mframe\u001b[0m\u001b[0;34m)\u001b[0m \u001b[0;32mor\u001b[0m \u001b[0mself\u001b[0m\u001b[0;34m.\u001b[0m\u001b[0mbreak_here\u001b[0m\u001b[0;34m(\u001b[0m\u001b[0mframe\u001b[0m\u001b[0;34m)\u001b[0m\u001b[0;34m:\u001b[0m\u001b[0;34m\u001b[0m\u001b[0;34m\u001b[0m\u001b[0m\n\u001b[1;32m    112\u001b[0m             \u001b[0mself\u001b[0m\u001b[0;34m.\u001b[0m\u001b[0muser_line\u001b[0m\u001b[0;34m(\u001b[0m\u001b[0mframe\u001b[0m\u001b[0;34m)\u001b[0m\u001b[0;34m\u001b[0m\u001b[0;34m\u001b[0m\u001b[0m\n\u001b[0;32m--> 113\u001b[0;31m             \u001b[0;32mif\u001b[0m \u001b[0mself\u001b[0m\u001b[0;34m.\u001b[0m\u001b[0mquitting\u001b[0m\u001b[0;34m:\u001b[0m \u001b[0;32mraise\u001b[0m \u001b[0mBdbQuit\u001b[0m\u001b[0;34m\u001b[0m\u001b[0;34m\u001b[0m\u001b[0m\n\u001b[0m\u001b[1;32m    114\u001b[0m         \u001b[0;32mreturn\u001b[0m \u001b[0mself\u001b[0m\u001b[0;34m.\u001b[0m\u001b[0mtrace_dispatch\u001b[0m\u001b[0;34m\u001b[0m\u001b[0;34m\u001b[0m\u001b[0m\n\u001b[1;32m    115\u001b[0m \u001b[0;34m\u001b[0m\u001b[0m\n",
      "\u001b[0;31mBdbQuit\u001b[0m: "
     ]
    }
   ],
   "source": [
    "data_src = \"data/Vietnam\"\n",
    "stock_list = np.load(data_src + \"/list_stocks.npy\", allow_pickle = True)\n",
    "stock_infos = pd.read_csv(\"data/Vietnam/stock_infos.csv\", index_col = \"ticker\")\n",
    "basicFA = pd.read_csv(\"data/Vietnam/basic_FA.csv\", index_col = \"ticker\")\n",
    "trailing_quarter = pd.read_csv(\"data/Vietnam/trailing_quarter_report.csv\", index_col = \"ticker\")\n",
    "# trailing_year = pd.read_csv(\"data/Vietnam/trailing_year_report.csv\", index_col = \"ticker\")\n",
    "quarters, years = get_last_quarters(\"Q2/2023\", num_periods = 26)\n",
    "\n",
    "estimate_price_pe = pd.read_csv(\"data/Vietnam/estimate_price_pe.csv\")\n",
    "estimate_price_pb = pd.read_csv(\"data/Vietnam/estimate_price_pb.csv\")\n",
    "\n",
    "price_estimator = estimate_price(stock_list, stock_infos, estimate_price_pe, estimate_price_pb)\n",
    "\n",
    "# price_estimator.to_csv(\"estimate_price.csv\")\n",
    "\n",
    "# stock_list = list(trailing_quarter.index.unique())\n",
    "\n",
    "# stock_list = [e for e in stock_list if e != \"L14\"]\n",
    "\n",
    "\n"
   ]
  },
  {
   "cell_type": "code",
   "execution_count": 12,
   "id": "07aefbdf",
   "metadata": {},
   "outputs": [
    {
     "data": {
      "text/plain": [
       "array(['Q4/2016', 'Q1/2017', 'Q2/2017', 'Q3/2017', 'Q4/2017', 'Q1/2018',\n",
       "       'Q2/2018', 'Q3/2018', 'Q4/2018', 'Q1/2019', 'Q2/2019', 'Q3/2019',\n",
       "       'Q4/2019', 'Q1/2020', 'Q2/2020', 'Q3/2020', 'Q4/2020', 'Q1/2021',\n",
       "       'Q2/2021', 'Q3/2021', 'Q4/2021', 'Q1/2022', 'Q2/2022', 'Q3/2022',\n",
       "       'Q4/2022', 'Q1/2023'], dtype=object)"
      ]
     },
     "execution_count": 12,
     "metadata": {},
     "output_type": "execute_result"
    }
   ],
   "source": [
    "estimate_price_pe = estimate_price_pe.set_index(\"ticker\")\n",
    "estimate_price_pb = estimate_price_pb.set_index(\"ticker\")\n",
    "estimate_price_pe[\"quarter\"].unique()\n",
    "\n"
   ]
  },
  {
   "cell_type": "code",
   "execution_count": 15,
   "id": "3943af99",
   "metadata": {},
   "outputs": [
    {
     "data": {
      "text/plain": [
       "Unnamed: 0                   24\n",
       "quarter                 Q4/2022\n",
       "low_estimate_price      65640.2\n",
       "high_estimate_price    91036.71\n",
       "low_estimate_PE           11.76\n",
       "high_estimate_PE          16.31\n",
       "eps                     5581.65\n",
       "Name: VCB, dtype: object"
      ]
     },
     "execution_count": 15,
     "metadata": {},
     "output_type": "execute_result"
    }
   ],
   "source": [
    "estimate_price_pe[estimate_price_pe[\"quarter\"] == \"Q4/2022\"].loc[\"VCB\"]"
   ]
  },
  {
   "cell_type": "code",
   "execution_count": 24,
   "id": "de9a943a",
   "metadata": {},
   "outputs": [],
   "source": [
    "def estimate_price(stock_list, stock_infos, estimate_price_pe, estimate_price_pb):\n",
    "\n",
    "    results = []    \n",
    "    quarters = estimate_price_pe[\"quarter\"].unique()\n",
    "    \n",
    "    estimate_price_pe = estimate_price_pe.set_index(\"ticker\")\n",
    "    estimate_price_pb = estimate_price_pb.set_index(\"ticker\")\n",
    "\n",
    "    for stock in stock_list:\n",
    "\n",
    "        if stock not in estimate_price_pe.index:\n",
    "            continue\n",
    "\n",
    "        res_lows = [stock, \"estimate_price_low\"]\n",
    "        res_highs = [stock, \"estimate_price_high\"]\n",
    "        insight_pe = estimate_price_pe.loc[stock]\n",
    "        insight_pb = estimate_price_pb.loc[stock]\n",
    "        stock_category = stock_infos.loc[stock][\"category\"]\n",
    "                \n",
    "        for quarter in quarters:\n",
    "            \n",
    "            estimate_PE_low = insight_pe[insight_pe[\"quarter\"] == quarter][\"low_estimate_price\"][0]\n",
    "            estimate_PE_high = insight_pe[insight_pe[\"quarter\"] == quarter][\"high_estimate_price\"][0]\n",
    "            \n",
    "            estimate_PB_low = insight_pb[insight_pb[\"quarter\"] == quarter][\"low_estimate_price\"][0]\n",
    "            estimate_PB_high = insight_pb[insight_pb[\"quarter\"] == quarter][\"high_estimate_price\"][0]\n",
    "            \n",
    "            if math.isnan(estimate_PE_low) or math.isnan(estimate_PE_high):\n",
    "                res_lows.append(None)\n",
    "                res_highs.append(None)            \n",
    "            else:       \n",
    "                if stock_category in [\"Banks\", \"Financial_Services\", \"Insurance\"]:    \n",
    "                    pb_weight = 0.62\n",
    "                    pe_weight = 0.38\n",
    "                else:\n",
    "                    pb_weight = 0.38\n",
    "                    pe_weight = 0.62\n",
    "              \n",
    "                if estimate_PE_low > 0:\n",
    "                    estimated_price_low = estimate_PE_low * pe_weight + estimate_PB_low * pb_weight\n",
    "                else:\n",
    "                    estimated_price_low = estimate_PB_low\n",
    "\n",
    "                if estimate_PE_high > 0:\n",
    "                    estimated_price_high = estimate_PE_high * pe_weight + estimate_PB_high * pb_weight\n",
    "                else:\n",
    "                    estimated_price_high = estimate_PB_high\n",
    "\n",
    "                res_lows.append(\"{:.0f}\".format(estimated_price_low))\n",
    "                res_highs.append(\"{:.0f}\".format(estimated_price_high))\n",
    "\n",
    "        results.append(res_lows)\n",
    "        results.append(res_highs)\n",
    "        \n",
    "    df = pd.DataFrame(results, columns = [\"ticker\", \"name\"] + list(quarters))\n",
    "    return df"
   ]
  },
  {
   "cell_type": "code",
   "execution_count": null,
   "id": "809b1207",
   "metadata": {},
   "outputs": [],
   "source": [
    "start_date = get_date_by_report_quarter(quarters[0])[0].strftime(\"%Y-%m-%d\")\n",
    "end_date = get_date_by_report_quarter(quarters[-1])[1].strftime(\"%Y-%m-%d\")"
   ]
  },
  {
   "cell_type": "code",
   "execution_count": null,
   "id": "69b2f265",
   "metadata": {},
   "outputs": [],
   "source": [
    "getFinancialReport(\"VCB\", start_quarter = 2, start_year = 2014, end_quarter = 4, end_year = 2022, mode = \"quarter\")"
   ]
  },
  {
   "cell_type": "code",
   "execution_count": null,
   "id": "c19bc3b4",
   "metadata": {},
   "outputs": [],
   "source": [
    "df = get_pb_valuations([\"VCB\", \"VIC\"], quarters)"
   ]
  },
  {
   "cell_type": "code",
   "execution_count": null,
   "id": "a222b05d",
   "metadata": {},
   "outputs": [],
   "source": [
    "quarters"
   ]
  },
  {
   "cell_type": "code",
   "execution_count": null,
   "id": "40b76ee0",
   "metadata": {},
   "outputs": [],
   "source": [
    "df"
   ]
  },
  {
   "cell_type": "code",
   "execution_count": null,
   "id": "1bc975b5",
   "metadata": {},
   "outputs": [],
   "source": [
    "estimate_price_pe"
   ]
  },
  {
   "cell_type": "code",
   "execution_count": null,
   "id": "ac2a4cea",
   "metadata": {},
   "outputs": [],
   "source": [
    "estimate_price_pe.loc[\"VCB\"][\"Q4/2016\"]"
   ]
  },
  {
   "cell_type": "code",
   "execution_count": null,
   "id": "720691c7",
   "metadata": {},
   "outputs": [],
   "source": [
    "quarters = estimate_price_pe.columns[1:]\n",
    "results = []\n",
    "for stock in stock_list:\n",
    "    res = [stock]\n",
    "    estimate_price_pes = estimate_price_pe.loc[stock]\n",
    "    estimate_price_pbs = estimate_price_pb.loc[stock]\n",
    "    stock_category = stock_infos.loc[stock][\"category\"]\n",
    "    \n",
    "    for quarter in quarters:\n",
    "        estimate_PE_range = estimate_price_pes[quarter]\n",
    "        estimate_PB_range = estimate_price_pbs[quarter]\n",
    "        \n",
    "        estimate_PE_low = float(estimate_PE_range.split(',')[0])\n",
    "        estimate_PE_high = float(estimate_PE_range.split(',')[1])\n",
    "        \n",
    "        estimate_PB_low = float(estimate_PB_range.split(',')[0])\n",
    "        estimate_PB_high = float(estimate_PB_range.split(',')[1])\n",
    "        \n",
    "        if stock_category in [\"Banks\", \"Financial_Services\", \"Insurance\"]:    \n",
    "            pb_weight = 0.62\n",
    "            pe_weight = 0.38\n",
    "        else:\n",
    "            pb_weight = 0.38\n",
    "            pe_weight = 0.62\n",
    "\n",
    "        if estimate_PE_low > 0:\n",
    "            estimated_price_low = estimate_PE_low * pe_weight + estimate_PB_low * pb_weight\n",
    "        else:\n",
    "            estimated_price_low = estimate_PB_low\n",
    "\n",
    "        if estimate_PE_high > 0:\n",
    "            estimated_price_high = estimate_PE_high * pe_weight + estimate_PB_high * pb_weight\n",
    "        else:\n",
    "            estimated_price_high = estimate_PB_high\n",
    "\n",
    "        res.append(\"{:.0f}, {:.0f}\".format(estimated_price_low, estimated_price_high))\n",
    "    results.append(res)\n",
    "    \n",
    "df = pd.DataFrame(results, columns = [\"ticker\"] + list(quarters))\n",
    "\n",
    "print(df)\n",
    "    \n",
    "    \n",
    "    \n"
   ]
  }
 ],
 "metadata": {
  "kernelspec": {
   "display_name": "pytorch",
   "language": "python",
   "name": "pytorch"
  },
  "language_info": {
   "codemirror_mode": {
    "name": "ipython",
    "version": 3
   },
   "file_extension": ".py",
   "mimetype": "text/x-python",
   "name": "python",
   "nbconvert_exporter": "python",
   "pygments_lexer": "ipython3",
   "version": "3.7.10"
  }
 },
 "nbformat": 4,
 "nbformat_minor": 5
}
