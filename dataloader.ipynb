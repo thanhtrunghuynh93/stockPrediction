{
 "cells": [
  {
   "cell_type": "code",
   "execution_count": 1,
   "id": "d0f1e31f",
   "metadata": {},
   "outputs": [],
   "source": [
    "import pandas as pd\n",
    "import numpy as np\n",
    "from stockstats import StockDataFrame as Sdf\n",
    "import pandas as pd\n",
    "import numpy as np\n",
    "import matplotlib.pyplot as plt\n",
    "import os\n",
    "from datetime import datetime\n",
    "from OHCLV_loader import load_data\n",
    "from datetime import datetime\n",
    "from pytz import timezone\n",
    "from financial_loader import getFundamental, getFinancialReports, getFinancialReport, getBasicFA\n",
    "from valuation_loader import get_pe_valuation, get_pe_valuations, get_pb_valuation, get_pb_valuations, estimate_price\n",
    "from utils.date_util import *\n",
    "from analysis.CANSLIM_analysis import CANSLIM_analysis\n",
    "import requests\n",
    "\n",
    "# from preprocess.dataloader import load_data, clean_data\n",
    "# from preprocess.data_generator import generate_trading_data\n",
    "# from preprocess.indicator_factory import add_indicators_all, add_indicators\n",
    "# from indicators.Trendline import FindTrends\n",
    "# from evals import eval_trend_return_acc\n",
    "\n"
   ]
  },
  {
   "cell_type": "code",
   "execution_count": 2,
   "id": "c788b6e8",
   "metadata": {},
   "outputs": [],
   "source": [
    "data_src = \"data/Vietnam\"\n",
    "stock_list = np.load(data_src + \"/list_stocks.npy\", allow_pickle = True)\n",
    "stock_infos = pd.read_csv(\"data/Vietnam/stock_infos.csv\", index_col = \"ticker\")\n",
    "basicFA = pd.read_csv(\"data/Vietnam/basic_FA.csv\", index_col = \"ticker\")\n",
    "trailing_quarter = pd.read_csv(\"data/Vietnam/trailing_quarter_report.csv\", index_col = \"ticker\")\n",
    "trailing_year = pd.read_csv(\"data/Vietnam/trailing_year_report.csv\", index_col = \"ticker\")\n",
    "quarters, years = get_last_quarters(\"Q2/2023\", num_periods = 26)\n",
    "\n",
    "estimate_price_pe = pd.read_csv(\"data/Vietnam/estimate_price_pe.csv\", index_col = \"ticker\")\n",
    "estimate_price_pb = pd.read_csv(\"data/Vietnam/estimate_price_pb.csv\", index_col = \"ticker\")\n",
    "\n",
    "price_estimator = estimate_price(stock_list, stock_infos, estimate_price_pe, estimate_price_pb)\n",
    "\n",
    "stock_list = list(trailing_quarter.index.unique())\n",
    "\n",
    "# stock_list = [e for e in stock_list if e != \"L14\"]\n",
    "\n",
    "\n"
   ]
  },
  {
   "cell_type": "code",
   "execution_count": 3,
   "id": "809b1207",
   "metadata": {},
   "outputs": [],
   "source": [
    "start_date = get_date_by_report_quarter(quarters[0])[0].strftime(\"%Y-%m-%d\")\n",
    "end_date = get_date_by_report_quarter(quarters[-1])[1].strftime(\"%Y-%m-%d\")"
   ]
  },
  {
   "cell_type": "code",
   "execution_count": 4,
   "id": "69b2f265",
   "metadata": {},
   "outputs": [
    {
     "name": "stdout",
     "output_type": "stream",
     "text": [
      "<Response [200]>\n"
     ]
    },
    {
     "ename": "KeyError",
     "evalue": "'quarter'",
     "output_type": "error",
     "traceback": [
      "\u001b[0;31m---------------------------------------------------------------------------\u001b[0m",
      "\u001b[0;31mKeyError\u001b[0m                                  Traceback (most recent call last)",
      "\u001b[0;32m~/anaconda3/envs/pytorch/lib/python3.7/site-packages/pandas/core/indexes/base.py\u001b[0m in \u001b[0;36mget_loc\u001b[0;34m(self, key, method, tolerance)\u001b[0m\n\u001b[1;32m   3360\u001b[0m             \u001b[0;32mtry\u001b[0m\u001b[0;34m:\u001b[0m\u001b[0;34m\u001b[0m\u001b[0;34m\u001b[0m\u001b[0m\n\u001b[0;32m-> 3361\u001b[0;31m                 \u001b[0;32mreturn\u001b[0m \u001b[0mself\u001b[0m\u001b[0;34m.\u001b[0m\u001b[0m_engine\u001b[0m\u001b[0;34m.\u001b[0m\u001b[0mget_loc\u001b[0m\u001b[0;34m(\u001b[0m\u001b[0mcasted_key\u001b[0m\u001b[0;34m)\u001b[0m\u001b[0;34m\u001b[0m\u001b[0;34m\u001b[0m\u001b[0m\n\u001b[0m\u001b[1;32m   3362\u001b[0m             \u001b[0;32mexcept\u001b[0m \u001b[0mKeyError\u001b[0m \u001b[0;32mas\u001b[0m \u001b[0merr\u001b[0m\u001b[0;34m:\u001b[0m\u001b[0;34m\u001b[0m\u001b[0;34m\u001b[0m\u001b[0m\n",
      "\u001b[0;32m~/anaconda3/envs/pytorch/lib/python3.7/site-packages/pandas/_libs/index.pyx\u001b[0m in \u001b[0;36mpandas._libs.index.IndexEngine.get_loc\u001b[0;34m()\u001b[0m\n",
      "\u001b[0;32m~/anaconda3/envs/pytorch/lib/python3.7/site-packages/pandas/_libs/index.pyx\u001b[0m in \u001b[0;36mpandas._libs.index.IndexEngine.get_loc\u001b[0;34m()\u001b[0m\n",
      "\u001b[0;32mpandas/_libs/hashtable_class_helper.pxi\u001b[0m in \u001b[0;36mpandas._libs.hashtable.PyObjectHashTable.get_item\u001b[0;34m()\u001b[0m\n",
      "\u001b[0;32mpandas/_libs/hashtable_class_helper.pxi\u001b[0m in \u001b[0;36mpandas._libs.hashtable.PyObjectHashTable.get_item\u001b[0;34m()\u001b[0m\n",
      "\u001b[0;31mKeyError\u001b[0m: 'quarter'",
      "\nThe above exception was the direct cause of the following exception:\n",
      "\u001b[0;31mKeyError\u001b[0m                                  Traceback (most recent call last)",
      "\u001b[0;32m/tmp/ipykernel_67819/3895338857.py\u001b[0m in \u001b[0;36m<module>\u001b[0;34m\u001b[0m\n\u001b[0;32m----> 1\u001b[0;31m \u001b[0mgetFinancialReport\u001b[0m\u001b[0;34m(\u001b[0m\u001b[0;34m\"VCB\"\u001b[0m\u001b[0;34m,\u001b[0m \u001b[0mstart_quarter\u001b[0m \u001b[0;34m=\u001b[0m \u001b[0;36m2\u001b[0m\u001b[0;34m,\u001b[0m \u001b[0mstart_year\u001b[0m \u001b[0;34m=\u001b[0m \u001b[0;36m2014\u001b[0m\u001b[0;34m,\u001b[0m \u001b[0mend_quarter\u001b[0m \u001b[0;34m=\u001b[0m \u001b[0;36m4\u001b[0m\u001b[0;34m,\u001b[0m \u001b[0mend_year\u001b[0m \u001b[0;34m=\u001b[0m \u001b[0;36m2022\u001b[0m\u001b[0;34m,\u001b[0m \u001b[0mmode\u001b[0m \u001b[0;34m=\u001b[0m \u001b[0;34m\"quarter\"\u001b[0m\u001b[0;34m)\u001b[0m\u001b[0;34m\u001b[0m\u001b[0;34m\u001b[0m\u001b[0m\n\u001b[0m",
      "\u001b[0;32m~/workspace/stockPrediction/final_ver/financial_loader.py\u001b[0m in \u001b[0;36mgetFinancialReport\u001b[0;34m(ticker, start_quarter, start_year, end_quarter, end_year, mode)\u001b[0m\n\u001b[1;32m    101\u001b[0m     \u001b[0mdf\u001b[0m\u001b[0;34m[\u001b[0m\u001b[0;34m\"ticker\"\u001b[0m\u001b[0;34m]\u001b[0m \u001b[0;34m=\u001b[0m \u001b[0mticker\u001b[0m\u001b[0;34m\u001b[0m\u001b[0;34m\u001b[0m\u001b[0m\n\u001b[1;32m    102\u001b[0m     \u001b[0;32mif\u001b[0m \u001b[0mmode\u001b[0m \u001b[0;34m==\u001b[0m \u001b[0;34m\"quarter\"\u001b[0m\u001b[0;34m:\u001b[0m\u001b[0;34m\u001b[0m\u001b[0;34m\u001b[0m\u001b[0m\n\u001b[0;32m--> 103\u001b[0;31m         \u001b[0mdf\u001b[0m\u001b[0;34m[\u001b[0m\u001b[0;34m\"quarter\"\u001b[0m\u001b[0;34m]\u001b[0m \u001b[0;34m=\u001b[0m \u001b[0mdf\u001b[0m\u001b[0;34m[\u001b[0m\u001b[0;34m\"quarter\"\u001b[0m\u001b[0;34m]\u001b[0m\u001b[0;34m.\u001b[0m\u001b[0mastype\u001b[0m\u001b[0;34m(\u001b[0m\u001b[0mint\u001b[0m\u001b[0;34m)\u001b[0m\u001b[0;34m\u001b[0m\u001b[0;34m\u001b[0m\u001b[0m\n\u001b[0m\u001b[1;32m    104\u001b[0m     \u001b[0mdf\u001b[0m\u001b[0;34m[\u001b[0m\u001b[0;34m\"year\"\u001b[0m\u001b[0;34m]\u001b[0m \u001b[0;34m=\u001b[0m \u001b[0mdf\u001b[0m\u001b[0;34m[\u001b[0m\u001b[0;34m\"year\"\u001b[0m\u001b[0;34m]\u001b[0m\u001b[0;34m.\u001b[0m\u001b[0mastype\u001b[0m\u001b[0;34m(\u001b[0m\u001b[0mint\u001b[0m\u001b[0;34m)\u001b[0m\u001b[0;34m\u001b[0m\u001b[0;34m\u001b[0m\u001b[0m\n\u001b[1;32m    105\u001b[0m \u001b[0;34m\u001b[0m\u001b[0m\n",
      "\u001b[0;32m~/anaconda3/envs/pytorch/lib/python3.7/site-packages/pandas/core/frame.py\u001b[0m in \u001b[0;36m__getitem__\u001b[0;34m(self, key)\u001b[0m\n\u001b[1;32m   3453\u001b[0m             \u001b[0;32mif\u001b[0m \u001b[0mself\u001b[0m\u001b[0;34m.\u001b[0m\u001b[0mcolumns\u001b[0m\u001b[0;34m.\u001b[0m\u001b[0mnlevels\u001b[0m \u001b[0;34m>\u001b[0m \u001b[0;36m1\u001b[0m\u001b[0;34m:\u001b[0m\u001b[0;34m\u001b[0m\u001b[0;34m\u001b[0m\u001b[0m\n\u001b[1;32m   3454\u001b[0m                 \u001b[0;32mreturn\u001b[0m \u001b[0mself\u001b[0m\u001b[0;34m.\u001b[0m\u001b[0m_getitem_multilevel\u001b[0m\u001b[0;34m(\u001b[0m\u001b[0mkey\u001b[0m\u001b[0;34m)\u001b[0m\u001b[0;34m\u001b[0m\u001b[0;34m\u001b[0m\u001b[0m\n\u001b[0;32m-> 3455\u001b[0;31m             \u001b[0mindexer\u001b[0m \u001b[0;34m=\u001b[0m \u001b[0mself\u001b[0m\u001b[0;34m.\u001b[0m\u001b[0mcolumns\u001b[0m\u001b[0;34m.\u001b[0m\u001b[0mget_loc\u001b[0m\u001b[0;34m(\u001b[0m\u001b[0mkey\u001b[0m\u001b[0;34m)\u001b[0m\u001b[0;34m\u001b[0m\u001b[0;34m\u001b[0m\u001b[0m\n\u001b[0m\u001b[1;32m   3456\u001b[0m             \u001b[0;32mif\u001b[0m \u001b[0mis_integer\u001b[0m\u001b[0;34m(\u001b[0m\u001b[0mindexer\u001b[0m\u001b[0;34m)\u001b[0m\u001b[0;34m:\u001b[0m\u001b[0;34m\u001b[0m\u001b[0;34m\u001b[0m\u001b[0m\n\u001b[1;32m   3457\u001b[0m                 \u001b[0mindexer\u001b[0m \u001b[0;34m=\u001b[0m \u001b[0;34m[\u001b[0m\u001b[0mindexer\u001b[0m\u001b[0;34m]\u001b[0m\u001b[0;34m\u001b[0m\u001b[0;34m\u001b[0m\u001b[0m\n",
      "\u001b[0;32m~/anaconda3/envs/pytorch/lib/python3.7/site-packages/pandas/core/indexes/base.py\u001b[0m in \u001b[0;36mget_loc\u001b[0;34m(self, key, method, tolerance)\u001b[0m\n\u001b[1;32m   3361\u001b[0m                 \u001b[0;32mreturn\u001b[0m \u001b[0mself\u001b[0m\u001b[0;34m.\u001b[0m\u001b[0m_engine\u001b[0m\u001b[0;34m.\u001b[0m\u001b[0mget_loc\u001b[0m\u001b[0;34m(\u001b[0m\u001b[0mcasted_key\u001b[0m\u001b[0;34m)\u001b[0m\u001b[0;34m\u001b[0m\u001b[0;34m\u001b[0m\u001b[0m\n\u001b[1;32m   3362\u001b[0m             \u001b[0;32mexcept\u001b[0m \u001b[0mKeyError\u001b[0m \u001b[0;32mas\u001b[0m \u001b[0merr\u001b[0m\u001b[0;34m:\u001b[0m\u001b[0;34m\u001b[0m\u001b[0;34m\u001b[0m\u001b[0m\n\u001b[0;32m-> 3363\u001b[0;31m                 \u001b[0;32mraise\u001b[0m \u001b[0mKeyError\u001b[0m\u001b[0;34m(\u001b[0m\u001b[0mkey\u001b[0m\u001b[0;34m)\u001b[0m \u001b[0;32mfrom\u001b[0m \u001b[0merr\u001b[0m\u001b[0;34m\u001b[0m\u001b[0;34m\u001b[0m\u001b[0m\n\u001b[0m\u001b[1;32m   3364\u001b[0m \u001b[0;34m\u001b[0m\u001b[0m\n\u001b[1;32m   3365\u001b[0m         \u001b[0;32mif\u001b[0m \u001b[0mis_scalar\u001b[0m\u001b[0;34m(\u001b[0m\u001b[0mkey\u001b[0m\u001b[0;34m)\u001b[0m \u001b[0;32mand\u001b[0m \u001b[0misna\u001b[0m\u001b[0;34m(\u001b[0m\u001b[0mkey\u001b[0m\u001b[0;34m)\u001b[0m \u001b[0;32mand\u001b[0m \u001b[0;32mnot\u001b[0m \u001b[0mself\u001b[0m\u001b[0;34m.\u001b[0m\u001b[0mhasnans\u001b[0m\u001b[0;34m:\u001b[0m\u001b[0;34m\u001b[0m\u001b[0;34m\u001b[0m\u001b[0m\n",
      "\u001b[0;31mKeyError\u001b[0m: 'quarter'"
     ]
    }
   ],
   "source": [
    "getFinancialReport(\"VCB\", start_quarter = 2, start_year = 2014, end_quarter = 4, end_year = 2022, mode = \"quarter\")"
   ]
  },
  {
   "cell_type": "code",
   "execution_count": null,
   "id": "f47df22e",
   "metadata": {},
   "outputs": [],
   "source": [
    "print(price_estimator)"
   ]
  },
  {
   "cell_type": "code",
   "execution_count": null,
   "id": "c19bc3b4",
   "metadata": {},
   "outputs": [],
   "source": [
    "df = get_pe_valuations([\"VCB\", \"VIC\"], quarters)"
   ]
  },
  {
   "cell_type": "code",
   "execution_count": null,
   "id": "40b76ee0",
   "metadata": {},
   "outputs": [],
   "source": [
    "df"
   ]
  },
  {
   "cell_type": "code",
   "execution_count": null,
   "id": "1bc975b5",
   "metadata": {},
   "outputs": [],
   "source": [
    "estimate_price_pe"
   ]
  },
  {
   "cell_type": "code",
   "execution_count": null,
   "id": "ac2a4cea",
   "metadata": {},
   "outputs": [],
   "source": [
    "estimate_price_pe.loc[\"VCB\"][\"Q4/2016\"]"
   ]
  },
  {
   "cell_type": "code",
   "execution_count": null,
   "id": "720691c7",
   "metadata": {},
   "outputs": [],
   "source": [
    "quarters = estimate_price_pe.columns[1:]\n",
    "results = []\n",
    "for stock in stock_list:\n",
    "    res = [stock]\n",
    "    estimate_price_pes = estimate_price_pe.loc[stock]\n",
    "    estimate_price_pbs = estimate_price_pb.loc[stock]\n",
    "    stock_category = stock_infos.loc[stock][\"category\"]\n",
    "    \n",
    "    for quarter in quarters:\n",
    "        estimate_PE_range = estimate_price_pes[quarter]\n",
    "        estimate_PB_range = estimate_price_pbs[quarter]\n",
    "        \n",
    "        estimate_PE_low = float(estimate_PE_range.split(',')[0])\n",
    "        estimate_PE_high = float(estimate_PE_range.split(',')[1])\n",
    "        \n",
    "        estimate_PB_low = float(estimate_PB_range.split(',')[0])\n",
    "        estimate_PB_high = float(estimate_PB_range.split(',')[1])\n",
    "        \n",
    "        if stock_category in [\"Banks\", \"Financial_Services\", \"Insurance\"]:    \n",
    "            pb_weight = 0.62\n",
    "            pe_weight = 0.38\n",
    "        else:\n",
    "            pb_weight = 0.38\n",
    "            pe_weight = 0.62\n",
    "\n",
    "        if estimate_PE_low > 0:\n",
    "            estimated_price_low = estimate_PE_low * pe_weight + estimate_PB_low * pb_weight\n",
    "        else:\n",
    "            estimated_price_low = estimate_PB_low\n",
    "\n",
    "        if estimate_PE_high > 0:\n",
    "            estimated_price_high = estimate_PE_high * pe_weight + estimate_PB_high * pb_weight\n",
    "        else:\n",
    "            estimated_price_high = estimate_PB_high\n",
    "\n",
    "        res.append(\"{:.0f}, {:.0f}\".format(estimated_price_low, estimated_price_high))\n",
    "    results.append(res)\n",
    "    \n",
    "df = pd.DataFrame(results, columns = [\"ticker\"] + list(quarters))\n",
    "\n",
    "print(df)\n",
    "    \n",
    "    \n",
    "    \n"
   ]
  }
 ],
 "metadata": {
  "kernelspec": {
   "display_name": "pytorch",
   "language": "python",
   "name": "pytorch"
  },
  "language_info": {
   "codemirror_mode": {
    "name": "ipython",
    "version": 3
   },
   "file_extension": ".py",
   "mimetype": "text/x-python",
   "name": "python",
   "nbconvert_exporter": "python",
   "pygments_lexer": "ipython3",
   "version": "3.7.10"
  }
 },
 "nbformat": 4,
 "nbformat_minor": 5
}
